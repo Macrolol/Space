{
 "cells": [
  {
   "cell_type": "code",
   "execution_count": 1,
   "metadata": {},
   "outputs": [],
   "source": [
    "import pyvo as vo\n",
    "from pyvo import dal, registry\n",
    "from astropy import units as u\n",
    "from astropy.coordinates import SkyCoord\n",
    "from astropy.coordinates import Angle\n",
    "import astropy as ap\n",
    "import polars as pl\n",
    "from typing import List, Tuple, Dict, Union, Optional\n",
    "from concurrent.futures import ThreadPoolExecutor, as_completed\n",
    "import time\n",
    "from dataclasses import dataclass\n",
    "from data_access import search_tables, Table\n",
    "import data_access\n",
    "import importlib\n",
    "import logging"
   ]
  },
  {
   "cell_type": "code",
   "execution_count": 2,
   "metadata": {},
   "outputs": [],
   "source": [
    "logging.basicConfig(level=logging.DEBUG, format='%(asctime)s - %(levelname)s - %(message)s', filename='data_access.log', filemode='w')"
   ]
  },
  {
   "cell_type": "code",
   "execution_count": 3,
   "metadata": {},
   "outputs": [
    {
     "data": {
      "text/latex": [
       "$10^\\circ41{}^\\prime05.244{}^{\\prime\\prime}$"
      ],
      "text/plain": [
       "<Longitude 10.68479 deg>"
      ]
     },
     "execution_count": 3,
     "metadata": {},
     "output_type": "execute_result"
    }
   ],
   "source": [
    "# Define the cone search parameters\n",
    "ra = 10.68479\n",
    "dec = 41.26906\n",
    "radius = 0.01\n",
    "\n",
    "# Convert to SkyCoord\n",
    "coord = SkyCoord(ra, dec, unit='deg')\n",
    "coord.ra"
   ]
  },
  {
   "cell_type": "code",
   "execution_count": 4,
   "metadata": {},
   "outputs": [],
   "source": [
    "res = registry.search(keywords=['Hole'], waveband='optical')"
   ]
  }
 ],
 "metadata": {
  "kernelspec": {
   "display_name": "base",
   "language": "python",
   "name": "python3"
  },
  "language_info": {
   "codemirror_mode": {
    "name": "ipython",
    "version": 3
   },
   "file_extension": ".py",
   "mimetype": "text/x-python",
   "name": "python",
   "nbconvert_exporter": "python",
   "pygments_lexer": "ipython3",
   "version": "3.10.9"
  },
  "orig_nbformat": 4
 },
 "nbformat": 4,
 "nbformat_minor": 2
}
